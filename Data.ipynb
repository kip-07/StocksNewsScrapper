{
 "cells": [
  {
   "cell_type": "code",
   "execution_count": 1,
   "id": "de5c1e35-155f-4c7c-9543-2adab7ab9589",
   "metadata": {},
   "outputs": [
    {
     "name": "stdout",
     "output_type": "stream",
     "text": [
      "C:\\Users\\KIIT\\GooglecolabAI\\StockNewsScraper\n"
     ]
    }
   ],
   "source": [
    "import os\n",
    "print(os.getcwd())  # Prints current directory\n"
   ]
  },
  {
   "cell_type": "code",
   "execution_count": 2,
   "id": "b2285f54-96e7-4ada-b391-d92ff4524039",
   "metadata": {},
   "outputs": [
    {
     "name": "stdout",
     "output_type": "stream",
     "text": [
      "\n",
      "🔹 RELIANCE News:\n",
      "                                             Headline\n",
      "0  Oil up on tighter supply risks; views mixed on...\n",
      "1  Trump tariffs, BTA talks on agenda, Goyal like...\n",
      "2  Bengaluru: After BMTC-Metro hike, auto-ricksha...\n",
      "3  Trump tariffs wipe out $2 trillion from US sto...\n",
      "4  Karnataka announces 5% cess on Amazon, Uber & ...\n",
      "\n",
      "🔹 TCS News:\n",
      "                                             Headline\n",
      "0  Oil up on tighter supply risks; views mixed on...\n",
      "1  Trump tariffs, BTA talks on agenda, Goyal like...\n",
      "2  Bengaluru: After BMTC-Metro hike, auto-ricksha...\n",
      "3  Trump tariffs wipe out $2 trillion from US sto...\n",
      "4  Karnataka announces 5% cess on Amazon, Uber & ...\n",
      "\n",
      "🔹 HDFC-BANK News:\n",
      "                                             Headline\n",
      "0  Oil up on tighter supply risks; views mixed on...\n",
      "1  Trump tariffs, BTA talks on agenda, Goyal like...\n",
      "2  Bengaluru: After BMTC-Metro hike, auto-ricksha...\n",
      "3  Trump tariffs wipe out $2 trillion from US sto...\n",
      "4  Karnataka announces 5% cess on Amazon, Uber & ...\n",
      "\n",
      "🔹 INFOSYS News:\n",
      "                                             Headline\n",
      "0  Oil up on tighter supply risks; views mixed on...\n",
      "1  Trump tariffs, BTA talks on agenda, Goyal like...\n",
      "2  Bengaluru: After BMTC-Metro hike, auto-ricksha...\n",
      "3  Trump tariffs wipe out $2 trillion from US sto...\n",
      "4  Karnataka announces 5% cess on Amazon, Uber & ...\n",
      "\n",
      "🔹 WIPRO News:\n",
      "                                             Headline\n",
      "0  Oil up on tighter supply risks; views mixed on...\n",
      "1  Trump tariffs, BTA talks on agenda, Goyal like...\n",
      "2  Bengaluru: After BMTC-Metro hike, auto-ricksha...\n",
      "3  Trump tariffs wipe out $2 trillion from US sto...\n",
      "4  Karnataka announces 5% cess on Amazon, Uber & ...\n"
     ]
    }
   ],
   "source": [
    "import pandas as pd\n",
    "\n",
    "stock_names = [\"reliance\", \"tcs\", \"hdfc-bank\", \"infosys\", \"wipro\"]  # Adjust as per stocks.txt\n",
    "for stock in stock_names:\n",
    "    file_path = f\"data/{stock}_news.csv\"\n",
    "    try:\n",
    "        df = pd.read_csv(file_path)\n",
    "        print(f\"\\n🔹 {stock.upper()} News:\\n\", df.head())\n",
    "    except FileNotFoundError:\n",
    "        print(f\"❌ {file_path} not found.\")\n"
   ]
  },
  {
   "cell_type": "code",
   "execution_count": 3,
   "id": "b95d89e3-91d3-46d9-8958-80e137959b66",
   "metadata": {},
   "outputs": [
    {
     "name": "stdout",
     "output_type": "stream",
     "text": [
      "                                            Headline  VADER_Score Sentiment  \\\n",
      "0  Oil up on tighter supply risks; views mixed on...      -0.2732  Negative   \n",
      "1  Trump tariffs, BTA talks on agenda, Goyal like...       0.0000   Neutral   \n",
      "2  Bengaluru: After BMTC-Metro hike, auto-ricksha...      -0.3818  Negative   \n",
      "3  Trump tariffs wipe out $2 trillion from US sto...       0.0000   Neutral   \n",
      "4  Karnataka announces 5% cess on Amazon, Uber & ...       0.1779  Positive   \n",
      "\n",
      "   Polarity  Subjectivity  \n",
      "0       0.0          0.25  \n",
      "1       0.0          1.00  \n",
      "2       0.0          0.00  \n",
      "3       0.0          0.00  \n",
      "4       0.0          0.00  \n"
     ]
    }
   ],
   "source": [
    "#s SENTIMENT ANALYSIS RESULTS\n",
    "\n",
    "import pandas as pd\n",
    "\n",
    "# Replace 'Reliance' with any stock you want to check\n",
    "df = pd.read_csv(\"data/Reliance_sentiment.csv\")\n",
    "print(df.head())  # View first few rows\n"
   ]
  },
  {
   "cell_type": "code",
   "execution_count": null,
   "id": "357cdfe6-cc6d-447f-a072-212aeb828650",
   "metadata": {},
   "outputs": [],
   "source": []
  }
 ],
 "metadata": {
  "kernelspec": {
   "display_name": "Python 3 (ipykernel)",
   "language": "python",
   "name": "python3"
  },
  "language_info": {
   "codemirror_mode": {
    "name": "ipython",
    "version": 3
   },
   "file_extension": ".py",
   "mimetype": "text/x-python",
   "name": "python",
   "nbconvert_exporter": "python",
   "pygments_lexer": "ipython3",
   "version": "3.12.7"
  }
 },
 "nbformat": 4,
 "nbformat_minor": 5
}
